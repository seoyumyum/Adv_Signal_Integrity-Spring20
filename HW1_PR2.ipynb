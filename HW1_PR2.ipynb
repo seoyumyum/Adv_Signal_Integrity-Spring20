{
 "cells": [
  {
   "cell_type": "code",
   "execution_count": 3,
   "metadata": {},
   "outputs": [],
   "source": [
    "import numpy as np\n",
    "from numpy.linalg import*\n",
    "import matplotlib.pyplot as plt\n",
    "from numpy import r_, exp, cos, sin, pi, zeros, ones, hanning, sqrt, log, floor, reshape, mean\n",
    "from scipy import signal\n",
    "from numpy.fft import fft\n",
    "import math\n",
    "#%matplotlib inline"
   ]
  },
  {
   "cell_type": "code",
   "execution_count": 4,
   "metadata": {},
   "outputs": [],
   "source": [
    "# Characteristic impedances\n",
    "Z_0 = 75\n",
    "Z_1 = 50\n",
    "Z_2 = 1000\n",
    "T_S = Z_0/(Z_0+Z_1)\n",
    "G_S = (Z_1-Z_0)/(Z_1+Z_0)\n",
    "G_R = (Z_2-Z_0)/(Z_2+Z_0)\n",
    "\n",
    "tau = 2.37   # ns\n",
    "z_r = -1     # z_r = z/l ->  -1 for z=-l, 0 for z=0\n",
    "\n",
    "def v_s(t,delay):\n",
    "    t_new = t-delay\n",
    "    v_s = np.zeros_like(t_new)\n",
    "    for k,tk in enumerate(t_new):\n",
    "        if tk >= 1 and tk <= 2:\n",
    "            v_s[k] = 4*tk-4\n",
    "        elif tk > 2 and tk <= 22:\n",
    "            v_s[k] = 4\n",
    "        elif tk >22 and tk <= 23:\n",
    "            v_s[k] = -4*tk+4*23 \n",
    "    return v_s\n",
    "\n",
    "def v_zk(z_r,k,tau):    \n",
    "    v_zk = T_S*(G_S*G_R)**k*(v_s(t,(2*k+1+z_r)*tau)+G_R*v_s(t,(2*k+1-z_r)*tau))\n",
    "    return v_zk"
   ]
  },
  {
   "cell_type": "code",
   "execution_count": 5,
   "metadata": {},
   "outputs": [
    {
     "data": {
      "image/png": "[encoded data removed]",
      "text/plain": [
       "<Figure size 432x288 with 1 Axes>"
      ]
     },
     "metadata": {
      "needs_background": "light"
     },
     "output_type": "display_data"
    }
   ],
   "source": [
    "t = np.linspace(-2,100,10001)\n",
    "v_z = np.zeros_like(t)\n",
    "for k in range(10):\n",
    "    v_z += v_zk(z_r,k,tau)\n",
    "#print(enumerate(t))\n",
    "#print(v_s2(t,0))\n",
    "plt.plot(t,v_z)\n",
    "plt.xlabel(r'Time (ns)')\n",
    "plt.ylabel(r'$v(z,t)$')\n",
    "plt.xlim([-2,50])\n",
    "plt.grid()\n"
   ]
  },
  {
   "cell_type": "code",
   "execution_count": null,
   "metadata": {},
   "outputs": [],
   "source": []
  }
 ],
 "metadata": {
  "kernelspec": {
   "display_name": "Pytorch-kernel",
   "language": "python",
   "name": "pytorch-kernel"
  },
  "language_info": {
   "codemirror_mode": {
    "name": "ipython",
    "version": 3
   },
   "file_extension": ".py",
   "mimetype": "text/x-python",
   "name": "python",
   "nbconvert_exporter": "python",
   "pygments_lexer": "ipython3",
   "version": "3.9.4"
  }
 },
 "nbformat": 4,
 "nbformat_minor": 2
}
